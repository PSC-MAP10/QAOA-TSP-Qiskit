{
 "cells": [
  {
   "cell_type": "code",
   "execution_count": 1,
   "metadata": {},
   "outputs": [],
   "source": [
    "import qiskit.aqua.operators as op\n",
    "import numpy as np\n",
    "from scipy.optimize import minimize\n",
    "from qiskit import(QuantumCircuit, execute, Aer, ClassicalRegister, IBMQ, aqua)\n",
    "from qiskit.circuit.library import Diagonal\n",
    "from qiskit.visualization import plot_histogram\n",
    "from qiskit.optimization.applications.ising import tsp\n",
    "\n",
    "import time"
   ]
  },
  {
   "cell_type": "markdown",
   "metadata": {},
   "source": [
    "On définit la classe suivante, qui sera utilisée pour construire les hamiltoniens :"
   ]
  },
  {
   "cell_type": "code",
   "execution_count": 2,
   "metadata": {},
   "outputs": [],
   "source": [
    "class DiagOp:\n",
    "    def __init__(self, liste): self.value = np.array(liste)\n",
    "    def __add__(self, B): return DiagOp(self.value + B.value)\n",
    "    def __sub__(self, B): return DiagOp(self.value - B.value)\n",
    "    def __matmul__(self, B): return DiagOp(self.value * B.value)\n",
    "    def __mul__(self, n): return DiagOp(n * self.value)\n",
    "    def __rmul__(self, n): return DiagOp(n * self.value)\n",
    "    def __invert__(self): return DiagOp(np.conjugate(self.value))\n",
    "    def __neg__(self): return DiagOp( - self.value)\n",
    "    def __xor__(self, B):\n",
    "        if isinstance(B, DiagOp):\n",
    "            return DiagOp(np.kron(self.value, B.value))\n",
    "        if isinstance(B, int):\n",
    "            n = B\n",
    "            L = [1]\n",
    "            for k in range(n):\n",
    "                L = np.kron(L, self.value)\n",
    "            return DiagOp(L)\n",
    "\n",
    "    def evolCircuit(self, t):\n",
    "        circuit = Diagonal(np.exp(- t * 1j * self.value))\n",
    "        return circuit.copy('gamma = ' + str(t))\n",
    "\n",
    "    def evolOp(self, t): return op.PrimitiveOp(self.evolCircuit(t).to_gate())\n",
    "\n",
    "    def expectation(self, state):\n",
    "        arr = state.to_matrix()\n",
    "        mod = np.abs(arr) ** 2\n",
    "        return np.sum(mod * self.value).real"
   ]
  },
  {
   "cell_type": "markdown",
   "metadata": {},
   "source": [
    "Fonction permettant la construction du circuit du QAOA :"
   ]
  },
  {
   "cell_type": "code",
   "execution_count": 3,
   "metadata": {},
   "outputs": [],
   "source": [
    "def TspQaoaCircuit(num_cities, p, symmetric = True):\n",
    "    id = DiagOp([1, 1])\n",
    "    z = DiagOp([1, -1])\n",
    "\n",
    "    def bit(i, t): return t * num_cities + i\n",
    "\n",
    "    def I(): return id ^ N\n",
    "    def Z(b): return (id ^ b) ^ z ^ (id ^ (N - b - 1))\n",
    "\n",
    "    def D(i, t):\n",
    "        b = bit(i, t)\n",
    "        return 0.5 * (I() - Z(b))\n",
    "\n",
    "    def UDriver(t):\n",
    "        circuitUDriver = QuantumCircuit(N)\n",
    "        circuitUDriver.rx(2 * t, range(N))\n",
    "        return circuitUDriver\n",
    "\n",
    "\n",
    "    def buildDiagCost(pen, num_cities, weights):\n",
    "\n",
    "        # constrainte (a) : chaque ville est visitée une et une seule fois\n",
    "        H_a = DiagOp([0] * (2 ** N))\n",
    "        for i in range(num_cities):\n",
    "            cur = I()\n",
    "            for t in range(num_cities):\n",
    "                cur -= D(i, t)\n",
    "            H_a += cur @ cur\n",
    "\n",
    "        # constraint (b) : une et une seule ville par étape de temps\n",
    "        H_b = DiagOp([0] * (2 ** N))\n",
    "        for t in range(num_cities):\n",
    "            cur = I()\n",
    "            for i in range(num_cities):\n",
    "                cur -= D(i, t)\n",
    "            H_b += cur @ cur\n",
    "\n",
    "        # constraint (d) : poids\n",
    "        H_d = DiagOp([0] * (2 ** N))\n",
    "        for i in range(num_cities):\n",
    "            for j in range(num_cities):\n",
    "                for t in range(num_cities - 1):\n",
    "                    H_d += D(i, t) @ D(j, t + 1) * weights[i, j] * pen\n",
    "                H_d += D(i, num_cities - 1) @ D(j, 0) * weights[i, j] * pen\n",
    "\n",
    "        return H_a + H_b + H_d\n",
    "\n",
    "    def buildCircuitDriver():\n",
    "        circuit_driver = QuantumCircuit(N)\n",
    "        for i in range(N): circuit_driver.x(i)\n",
    "        return circuit_driver\n",
    "\n",
    "    def buildQaoaCircuit(betas, gammas):\n",
    "        qaoaCircuit = QuantumCircuit(N)\n",
    "        for i in range(N):\n",
    "            qaoaCircuit.x(i)\n",
    "            qaoaCircuit.h(i)\n",
    "        for k in range(p):\n",
    "            qaoaCircuit.append(H_cost.evolCircuit(gammas[k]), range(N))\n",
    "            qaoaCircuit.append(UDriver(betas[k]), range(N))\n",
    "        return qaoaCircuit\n",
    "\n",
    "\n",
    "    def qaoaCost(params):\n",
    "        m = len(params) // 2\n",
    "        betas, gammas = params[:m], params[m:]\n",
    "        qaoaCircuit = buildQaoaCircuit(betas, gammas)\n",
    "        state = op.CircuitStateFn(qaoaCircuit)\n",
    "        return H_cost.expectation(state)\n",
    "\n",
    "\n",
    "    weight = np.random.rand(num_cities, num_cities)\n",
    "    if symmetric: weight = weight.T @ weight\n",
    "\n",
    "    N = num_cities ** 2\n",
    "\n",
    "    penality = 0.1\n",
    "    H_cost = buildDiagCost(penality, num_cities, weight)\n",
    "\n",
    "    T = time.time()\n",
    "\n",
    "    optParam = minimize(qaoaCost, x0=[.5] * 2 * p)\n",
    "    betas, gammas = optParam.x[:p], optParam.x[p:]\n",
    "\n",
    "    circuit = buildQaoaCircuit(betas, gammas)\n",
    "    circuit.add_register(ClassicalRegister(N))\n",
    "    circuit.measure(range(N), range(N))\n",
    "    simulator = Aer.get_backend('qasm_simulator')\n",
    "    job = execute(circuit, simulator, shots = 1000000)\n",
    "    results = job.result()\n",
    "    #print(weight)\n",
    "    print(\"Temps d'exécution : \", (time.time() - T))\n",
    "    return results.get_counts(circuit), circuit"
   ]
  },
  {
   "cell_type": "markdown",
   "metadata": {},
   "source": [
    "Exécution du circuit et affichage des résultats :"
   ]
  },
  {
   "cell_type": "code",
   "execution_count": 4,
   "metadata": {},
   "outputs": [
    {
     "name": "stdout",
     "output_type": "stream",
     "text": [
      "Temps d'exécution :  10.850204944610596\n",
      "{'0000': 1654, '0001': 445, '0010': 2115, '0011': 863, '0100': 447, '0101': 1487, '0110': 489659, '0111': 3857, '1000': 2089, '1001': 489981, '1010': 1190, '1011': 68, '1100': 882, '1101': 3916, '1110': 87, '1111': 1260}\n"
     ]
    },
    {
     "data": {
      "image/png": "[encoded data removed]",
      "text/plain": [
       "<Figure size 504x360 with 1 Axes>"
      ]
     },
     "execution_count": 4,
     "metadata": {},
     "output_type": "execute_result"
    }
   ],
   "source": [
    "result, circuit = TspQaoaCircuit(2,2)\n",
    "print(result)\n",
    "plot_histogram(result)"
   ]
  }
 ],
 "metadata": {
  "kernelspec": {
   "display_name": "Python 3",
   "language": "python",
   "name": "python3"
  },
  "language_info": {
   "codemirror_mode": {
    "name": "ipython",
    "version": 3
   },
   "file_extension": ".py",
   "mimetype": "text/x-python",
   "name": "python",
   "nbconvert_exporter": "python",
   "pygments_lexer": "ipython3",
   "version": "3.7.6"
  },
  "latex_envs": {
   "LaTeX_envs_menu_present": true,
   "autoclose": false,
   "autocomplete": false,
   "bibliofile": "biblio.bib",
   "cite_by": "apalike",
   "current_citInitial": 1,
   "eqLabelWithNumbers": true,
   "eqNumInitial": 1,
   "hotkeys": {
    "equation": "Ctrl-E",
    "itemize": "Ctrl-I"
   },
   "labels_anchors": false,
   "latex_user_defs": false,
   "report_style_numbering": false,
   "user_envs_cfg": false
  }
 },
 "nbformat": 4,
 "nbformat_minor": 4
}
