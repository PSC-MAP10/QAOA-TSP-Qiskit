{
 "cells": [
  {
   "cell_type": "code",
   "execution_count": 1,
   "metadata": {},
   "outputs": [],
   "source": [
    "import qiskit.aqua.operators as opAqua\n",
    "from qiskit.circuit import *\n",
    "from qiskit.tools.visualization import plot_histogram\n",
    "from qiskit.tools.monitor import job_monitor\n",
    "import qiskit.quantum_info.operators as opTerra\n",
    "from qiskit.providers.aer.extensions import snapshot_expectation_value\n",
    "from qiskit.extensions import HamiltonianGate\n",
    "from qiskit import Aer, execute\n",
    "\n",
    "import numpy as np\n",
    "import scipy.optimize as opt\n",
    "import matplotlib.pyplot as plt\n",
    "from itertools import permutations\n",
    "\n",
    "backend = Aer.get_backend('qasm_simulator')"
   ]
  },
  {
   "cell_type": "markdown",
   "metadata": {},
   "source": [
    "# 1. Architecture générale"
   ]
  },
  {
   "cell_type": "markdown",
   "metadata": {},
   "source": [
    "Le code ci-dessous définit la fonction appelée pour l'exécution de l'algorithme. Il constitue donc le corps du programme car c'est ici que les différentes composantes du code sont assemblées.\n",
    "\n",
    "On peut schématiser son fonctionnement comme suit :\n",
    "- On commence par créer un circuit 'virtuel' du QAOA tel qu'illustré dans la figure 1 du rapport intermédiaire en le paramétrant avec des paramètres $\\gamma$ et $\\beta$ (qui n'ont pas encore été optimisés).\n",
    "- On définit une fonction qui, pour un jeu de paramètres donné, construit réellement le circuit et calcule la moyenne de l'opérateur de coûts en sortie.\n",
    "- On optimise cette fonction via une fonction de minimisation classique, ce qui nous donne les paramètres optimaux.\n",
    "- On construit réellement le circuit du QAOA avec ces paramètres et on l'exécute."
   ]
  },
  {
   "cell_type": "code",
   "execution_count": 2,
   "metadata": {},
   "outputs": [],
   "source": [
    "def TspQaoa(n, p, weightList, shots = 1000000):\n",
    "\n",
    "    # Calcul de la taille du registre quantique correspondant aux arêtes de notre graphe -----------------\n",
    "    \n",
    "    N = n * (n - 1) // 2\n",
    "    \n",
    "    # Construction de l'hamiltonien de coûts, via une fonction qui sera détaillée en partie 2 -------------\n",
    "    \n",
    "    HCost = buildCost(n, weightList)\n",
    "    \n",
    "    # Initialisation des paramètres gamma et beta, permettant la définition ------------------------------\n",
    "    # d'un circuit paramétré, via une fonction détaillée en partie 3\n",
    "    \n",
    "    parBeta, parGamma = param(p)\n",
    "    circuit = buildQaoaCircuit(n, p, HCost)\n",
    "\n",
    "    ''' Nous disposons du circuit du QAOA avec des paramètres qui n'ont pas encore été optimisés.\n",
    "        Il reste donc à calculer ces paramètres optimaux, ce que nous allons faire via une fonction\n",
    "        d'optimisation classique qui minimisera la moyenne de l'opérateur de coûts en sortie du circuit,\n",
    "        en faisant varier les paramètres dans [0, pi]^p x [0, 2*pi]^p (conformément à ce qui est détaillé\n",
    "        dans la page 3 de l'article de 2014 Farhi et Goldstone). Pour cela, nous commençons par ajouter\n",
    "        au circuit un bloc destiné au calcul de cette valeur moyenne de l'opérateur via la fonction \n",
    "        'snapshot_expectation_value'. '''\n",
    "    \n",
    "    # Ajout d'un bloc pour le calcul de la moyenne de l'opérateur de coûts : ------------------------------\n",
    "    \n",
    "    HCostTerra = opTerra.Operator(HCost.to_matrix())\n",
    "    circuit.snapshot_expectation_value('Cost', HCostTerra, range(N))\n",
    "    \n",
    "    # Calcul des paramètres optimaux : -------------------------------------------------------------------\n",
    "    \n",
    "    initX = 2 * np.pi * np.random.random(2 * p) # Génération aléatoire de l'état initial pour la minimisation\n",
    "    \n",
    "    ''' L'optimisation porte sur la fonction 'qaoaCost', détaillée en partie 4, qui, étant donné des paramètres,\n",
    "        construit un circuit 'réel' à partir du circuit paramétré et renvoie la valeur moyenne de l'opérateur de\n",
    "        coûts en sortie de ce circuit. '''\n",
    "    \n",
    "    resultOpt = opt.minimize(qaoaCost, x0 = initX, options = {'maxiter': 20000, 'disp': False}, args = (circuit, p), bounds = [(0, 2 * np.pi)] * 2 * p) \n",
    "    listOptBeta, listOptGamma = resultOpt.x[:p], resultOpt.x[p:] # Récupération des paramètres optimaux\n",
    "    \n",
    "    # Création 'réelle' du circuit du QAOA pour les paramètres optimaux ----------------------------------\n",
    "\n",
    "    optCircuit = circuit.bind_parameters({parBeta: listOptBeta, parGamma: listOptGamma})\n",
    "    \n",
    "    # Exécution sur un simulateur ------------------------------------------------------------------------\n",
    "    \n",
    "    optCircuit.measure_all() # Rajout d'un registre classique pour réaliser la mesure\n",
    "    results = execute(optCircuit, backend, shots = shots).result()\n",
    "    \n",
    "    return results.get_counts(optCircuit)"
   ]
  },
  {
   "cell_type": "markdown",
   "metadata": {},
   "source": [
    "# 2. Construction de l'opérateur de coûts"
   ]
  },
  {
   "cell_type": "markdown",
   "metadata": {},
   "source": [
    "Définition des opérateurs $\\hat x_k$ qui serviront à construire l'hamiltonien $\\hat H_1 = \\sum_{k=0}^{N-1} W_k \\hat x_k$ défini en fin de page 14 du rapport intermédiaire :"
   ]
  },
  {
   "cell_type": "code",
   "execution_count": 3,
   "metadata": {},
   "outputs": [],
   "source": [
    "dictI, dictZ, dictXHat = {}, {}, {}\n",
    "def I(N):\n",
    "    if not N in dictI:\n",
    "        dictI[N] = opAqua.I ^ N\n",
    "    return dictI[N]\n",
    "\n",
    "def Z(N, b):\n",
    "    if not (N, b) in dictZ:\n",
    "        dictZ[(N, b)] = I(N - b - 1) ^ opAqua.Z ^ I(b)\n",
    "    return dictZ[(N, b)]\n",
    "\n",
    "def xHat(N, b):\n",
    "    if not (N, b) in dictZ:\n",
    "        dictXHat[(N, b)] = 0.5 * (I(N) - Z(N, b))\n",
    "    return dictXHat[(N, b)]"
   ]
  },
  {
   "cell_type": "markdown",
   "metadata": {},
   "source": [
    "Définition de l'hamiltonien de coût $H = H_1 + H_2$ conformément à la page 15 du rapport intermédiaire."
   ]
  },
  {
   "cell_type": "code",
   "execution_count": 4,
   "metadata": {},
   "outputs": [],
   "source": [
    "def buildCost(n, weightList):\n",
    "    N = n * (n - 1) // 2\n",
    "    H_1 = 0\n",
    "    for b in range(N):\n",
    "        H_1 += weightList[b] * xHat(N, b)\n",
    "\n",
    "    H_2 = opInvalid(n)\n",
    "    return H_1 + 2 * np.sum(weightList) * H_2"
   ]
  },
  {
   "cell_type": "markdown",
   "metadata": {},
   "source": [
    "Définition de la fonction 'opInvalid' permettant de construire $H_2 = \\sum_x (1-isValide(x))|x><x|$."
   ]
  },
  {
   "cell_type": "code",
   "execution_count": 5,
   "metadata": {},
   "outputs": [],
   "source": [
    "dictOpInvalid = {}\n",
    "\n",
    "def opInvalid(n):\n",
    "    if not n in dictOpInvalid:\n",
    "        diagonal = []\n",
    "        N = n * (n - 1) // 2\n",
    "        for i in range(2 ** N):\n",
    "            x = np.binary_repr(i, width = N)\n",
    "            diagonal.append(1 - isValide(x, n)[0])\n",
    "        dictOpInvalid[n] = opAqua.MatrixOp(np.diag(diagonal))\n",
    "\n",
    "    return dictOpInvalid[n]\n",
    "\n",
    "# La fonction isValide vérifie si une séquence binaire x est bien un chemin possible pour le TSP à n villes\n",
    "\n",
    "def isValide(x, n):\n",
    "    N = n * (n - 1) // 2\n",
    "    tour = []\n",
    "    Gamma = []\n",
    "    C = buildC(n)\n",
    "    for i in range(N):\n",
    "        if x[i] == '1':\n",
    "            Gamma.append(C[i])\n",
    "    if len(Gamma) != n: return 0, x\n",
    "    S = Gamma.pop().copy()\n",
    "    k = 0\n",
    "    while S[k] != 1:\n",
    "        k +=1\n",
    "    tour.append(k)\n",
    "    while 1 in S:\n",
    "        i = 0\n",
    "        while i < len(Gamma) and Gamma[i][k] != 1: i += 1\n",
    "        if i == len(Gamma): return 0, x\n",
    "        c = Gamma[i]\n",
    "        for j in range(n):\n",
    "            if c[j] == 1 and j != k:\n",
    "                nextk = j\n",
    "        k = nextk\n",
    "        tour.append(k)\n",
    "        S += c\n",
    "        Gamma.pop(i)\n",
    "        if max(S) > 2: return 0, x\n",
    "    if 0 in S: return 0, x\n",
    "    return 1, tour\n",
    "\n",
    "def buildC(n):\n",
    "    C = []\n",
    "    for i in range(n):\n",
    "        for j in range(i + 1, n):\n",
    "            c = np.zeros(n)\n",
    "            c[i] = 1\n",
    "            c[j] = 1\n",
    "            C.append(c)\n",
    "    return C"
   ]
  },
  {
   "cell_type": "markdown",
   "metadata": {},
   "source": [
    "# 3. Construction du circuit paramétré"
   ]
  },
  {
   "cell_type": "code",
   "execution_count": 6,
   "metadata": {},
   "outputs": [],
   "source": [
    "dictParam = {}\n",
    "def param(p): # Crée la liste des paramètres auxquels on assigne des valeurs plus tard\n",
    "    if not p in dictParam:\n",
    "        dictParam[p] = (ParameterVector(\"Beta\", p), ParameterVector(\"Gamma\", p))\n",
    "    return dictParam[p]\n",
    "\n",
    "# On crée un circuit générique et on assigne les valeurs de gamma et beta plus tard\n",
    "def buildQaoaCircuit(n, p, HCost):\n",
    "    N = n * (n - 1) // 2  # N est le nombre d'arêtes du graphe\n",
    "    qaoaCircuit = QuantumCircuit(N, name = \"Global Circuit\")\n",
    "\n",
    "    initCircuit = QuantumCircuit(N, name = 'Init')\n",
    "    initCircuit.h(range(N))\n",
    "\n",
    "    qaoaCircuit.append(initCircuit, range(N))\n",
    "    qaoaCircuit.barrier()\n",
    "\n",
    "\n",
    "    def UCost(t): # Fonction d'évolution temporelle associée à l'opérateur de coûts\n",
    "        circuitUCost = QuantumCircuit(N, name = \"U_cost\")\n",
    "        circuitUCost.append(HamiltonianGate(HCost, t), range(N))\n",
    "        return circuitUCost\n",
    "\n",
    "    def UDriver(t): # Fonction d'évolution temporelle associée à l'opérateur driver \n",
    "        circuitUDriver = QuantumCircuit(N, name = \"U_driver\")\n",
    "        circuitUDriver.rx(- 2 * t, range(N))\n",
    "        return circuitUDriver\n",
    "\n",
    "    parBeta, parGamma = param(p)\n",
    "\n",
    "    # On créé le circuit en alternant les Ucost et les UDriver avec les paramètres gammas et betas correspondants\n",
    "\n",
    "    for k in range(p): \n",
    "        qaoaCircuit.append(UCost(parGamma[k]), range(N))\n",
    "        qaoaCircuit.append(UDriver(parBeta[k]), range(N))\n",
    "        qaoaCircuit.barrier()\n",
    "\n",
    "    return qaoaCircuit\n"
   ]
  },
  {
   "cell_type": "markdown",
   "metadata": {},
   "source": [
    "# 4. Fonction 'qaoaCost', objet de la minimisation"
   ]
  },
  {
   "cell_type": "markdown",
   "metadata": {},
   "source": [
    "La fonction 'qaoaCost' renvoie, pour une liste des paramètres betas gammas, un circuit paramétré et une profondeur temporelle, la moyenne de l'opérateur de coûts en sortie du circuit associé."
   ]
  },
  {
   "cell_type": "code",
   "execution_count": 7,
   "metadata": {},
   "outputs": [],
   "source": [
    "def qaoaCost(parValue, circuit, p):\n",
    "    listValBeta, listValGamma = parValue[:p], parValue[p:]\n",
    "    parBeta, parGamma = param(p) \n",
    "\n",
    "    # Construction du circuit 'réel' à partir du circuit paramétré et des paramètres\n",
    "    \n",
    "    currentCircuit = circuit.bind_parameters({parBeta: listValBeta, parGamma: listValGamma})\n",
    "\n",
    "    results = execute(currentCircuit, backend, shots = 1000).result()\n",
    "    return results.data()['snapshots']['expectation_value']['Cost'][0]['value'].real "
   ]
  },
  {
   "cell_type": "markdown",
   "metadata": {},
   "source": [
    "# 5. Execution"
   ]
  },
  {
   "cell_type": "markdown",
   "metadata": {},
   "source": [
    "Choix du nombre de villes et des poids des arêtes ($N = n(n-1)/2$ arêtes) :"
   ]
  },
  {
   "cell_type": "code",
   "execution_count": 8,
   "metadata": {},
   "outputs": [],
   "source": [
    "n = 3\n",
    "weight = [1,1,1]\n",
    "\n",
    "result = TspQaoa(n, 2, weight)"
   ]
  },
  {
   "cell_type": "code",
   "execution_count": 9,
   "metadata": {},
   "outputs": [
    {
     "data": {
      "image/png": "[encoded data removed]",
      "text/plain": [
       "<Figure size 1080x360 with 1 Axes>"
      ]
     },
     "execution_count": 9,
     "metadata": {},
     "output_type": "execute_result"
    }
   ],
   "source": [
    "plot_histogram(result, figsize = (15, 5))"
   ]
  },
  {
   "cell_type": "code",
   "execution_count": null,
   "metadata": {},
   "outputs": [],
   "source": []
  }
 ],
 "metadata": {
  "kernelspec": {
   "display_name": "Python 3",
   "language": "python",
   "name": "python3"
  },
  "language_info": {
   "codemirror_mode": {
    "name": "ipython",
    "version": 3
   },
   "file_extension": ".py",
   "mimetype": "text/x-python",
   "name": "python",
   "nbconvert_exporter": "python",
   "pygments_lexer": "ipython3",
   "version": "3.7.6"
  },
  "latex_envs": {
   "LaTeX_envs_menu_present": true,
   "autoclose": false,
   "autocomplete": false,
   "bibliofile": "biblio.bib",
   "cite_by": "apalike",
   "current_citInitial": 1,
   "eqLabelWithNumbers": true,
   "eqNumInitial": 1,
   "hotkeys": {
    "equation": "Ctrl-E",
    "itemize": "Ctrl-I"
   },
   "labels_anchors": false,
   "latex_user_defs": false,
   "report_style_numbering": false,
   "user_envs_cfg": false
  }
 },
 "nbformat": 4,
 "nbformat_minor": 4
}
