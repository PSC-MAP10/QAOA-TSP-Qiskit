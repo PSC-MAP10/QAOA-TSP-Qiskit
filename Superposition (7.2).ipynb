{
 "cells": [
  {
   "cell_type": "code",
   "execution_count": 2,
   "metadata": {},
   "outputs": [],
   "source": [
    "import numpy as np\n",
    "from qiskit.circuit import *\n",
    "from qiskit.circuit.library import *\n",
    "from qiskit import Aer, execute\n",
    "from qiskit.tools.visualization import plot_histogram"
   ]
  },
  {
   "cell_type": "markdown",
   "metadata": {},
   "source": [
    "Fonction permettant le passage de la superposition au rang $n$ à celle au rang $n+1$ :"
   ]
  },
  {
   "cell_type": "code",
   "execution_count": 3,
   "metadata": {},
   "outputs": [],
   "source": [
    "def buildNextPathCircuit(n):\n",
    "\n",
    "    \"\"\"PARAMETRES\"\"\"\n",
    "    N = n * (n - 1) // 2\n",
    "    nextN = (n + 1) * n // 2\n",
    "\n",
    "    edgesToVertex = []\n",
    "    for i in range(n):\n",
    "        for j in range(0, i):\n",
    "            edgesToVertex.append((i, j))\n",
    "\n",
    "    \"\"\"CREATION CIRCUIT PRINCIPAL\"\"\"\n",
    "    path = QuantumRegister(nextN, name = \"x\")\n",
    "    counter = QuantumRegister(n, name = \"n\")\n",
    "    controlPath = QuantumRegister(1, name = \"a\")\n",
    "    controlSuperposition = QuantumRegister(1, name = \"b\")\n",
    "\n",
    "    circuit = QuantumCircuit(path, controlPath,\n",
    "                             controlSuperposition,\n",
    "                             counter,\n",
    "                             name = \"circuit \" + str(n) + \" -> \" +\n",
    "                             str(n + 1))\n",
    "\n",
    "    circuit.swap(counter[0], counter[-1])\n",
    "\n",
    "    circuit.barrier()\n",
    "    circuit.barrier()\n",
    "\n",
    "    \"\"\"BOUCLE GENERALE\"\"\"\n",
    "    for e in range(N):\n",
    "        j, k = edgesToVertex[e]\n",
    "\n",
    "        #Incrémentation du compteur\n",
    "        for ii in range(1, n):\n",
    "            i = n - ii\n",
    "            circuit.cswap(path[e], counter[i], counter[i - 1])\n",
    "\n",
    "        circuit.append(CCXGate(ctrl_state = \"10\"),\n",
    "                               [controlSuperposition[0],\n",
    "                               path[e], controlPath[0]])\n",
    "\n",
    "        circuit.barrier()\n",
    "\n",
    "        #Boucle qui change l'arête si besoin en controllant et lui applique la bonne superposition en fonction du compteur\n",
    "        for i in range(0, n):\n",
    "\n",
    "            gateSupr = RYGate(2 * np.arcsin(1 / np.sqrt(n - i)))\n",
    "\n",
    "            ctrlGateSupr = gateSupr.control(2, ctrl_state = \"11\")\n",
    "            circuit.append(ctrlGateSupr, [controlPath[0],\n",
    "                           counter[i], path[e]])\n",
    "\n",
    "        gateNew = CCXGate(ctrl_state = \"01\")\n",
    "        circuit.append(gateNew, [controlPath[0], path[e], path[N + j]])\n",
    "\n",
    "        circuit.append(gateNew, [controlPath[0], path[e], path[N + k]])\n",
    "\n",
    "        circuit.barrier()\n",
    "\n",
    "        circuit.append(CCXGate(ctrl_state = \"11\"), [path[N + j],\n",
    "                                path[N + k], controlSuperposition[0]])\n",
    "\n",
    "        circuit.append(C3XGate(ctrl_state = \"110\"), [path[e],\n",
    "                                path[N + j], path[N + k],\n",
    "                                controlPath[0]])\n",
    "\n",
    "        circuit.append(CCXGate(ctrl_state = \"10\"),\n",
    "                                [controlSuperposition[0],\n",
    "                                path[e],\n",
    "                                controlPath[0]])\n",
    "\n",
    "        circuit.barrier()\n",
    "        circuit.barrier()\n",
    "\n",
    "    \"\"\"REINITIALISATION\"\"\"\n",
    "    circuit.x(controlSuperposition[0])\n",
    "    circuit.swap(counter[0], counter[-1])\n",
    "\n",
    "    return circuit"
   ]
  },
  {
   "cell_type": "markdown",
   "metadata": {},
   "source": [
    "Fonction construisant la superposition désirée itérativement, par appels successifs à 'buildNextPathCircuit', avec 3 comme cas de base :"
   ]
  },
  {
   "cell_type": "code",
   "execution_count": 4,
   "metadata": {},
   "outputs": [],
   "source": [
    "def buildCircuitPath(n):\n",
    "    N = n * (n - 1) // 2\n",
    "\n",
    "    path = QuantumRegister(N, name = \"x\")\n",
    "    counter = QuantumRegister(n - 1, name = \"n\")\n",
    "    controlPath = QuantumRegister(1, name  = \"a\")\n",
    "    controlSuperposition = QuantumRegister(1, name = \"b\")\n",
    "\n",
    "    #cPath = ClassicalRegister(n * (n - 1) // 2, name = \"cX\")\n",
    "\n",
    "    circuit = QuantumCircuit(path, controlPath, controlSuperposition,\n",
    "                             counter, name = \"Superposition\")\n",
    "\n",
    "    \"\"\"INITIALISATION COMPTEUR + CHEMIN POUR 3\"\"\"\n",
    "    circuit.x(path[:3])\n",
    "    circuit.x(counter[0])\n",
    "\n",
    "    circuit.barrier()\n",
    "\n",
    "    \"\"\"CONSTRUCTIONS SUCCESSIVES\"\"\"\n",
    "    for i in range(3, n):\n",
    "        Ni = i * (i + 1) // 2\n",
    "\n",
    "        circuit.append(buildNextPathCircuit(i), path[:Ni] +\n",
    "                                                controlPath[:] +\n",
    "                                                controlSuperposition[:] +\n",
    "                                                counter[:i])\n",
    "        circuit.barrier()\n",
    "\n",
    "    #circuit.measure(path, cPath)\n",
    "\n",
    "    return circuit"
   ]
  },
  {
   "cell_type": "markdown",
   "metadata": {},
   "source": [
    "Choix du backend et ajout du registre classique permettant la mesure :"
   ]
  },
  {
   "cell_type": "code",
   "execution_count": 4,
   "metadata": {},
   "outputs": [
    {
     "data": {
      "text/plain": [
       "<qiskit.circuit.instructionset.InstructionSet at 0x1d3e70b8648>"
      ]
     },
     "execution_count": 4,
     "metadata": {},
     "output_type": "execute_result"
    }
   ],
   "source": [
    "backend = Aer.get_backend('qasm_simulator')\n",
    "circuit = buildCircuitPath(5)\n",
    "cPath = ClassicalRegister(10)\n",
    "circuit.add_register(cPath)\n",
    "circuit.measure(range(10), cPath)"
   ]
  },
  {
   "cell_type": "markdown",
   "metadata": {},
   "source": [
    "Exécution du circuit sur simulateur et affichage des résultats :"
   ]
  },
  {
   "cell_type": "code",
   "execution_count": 5,
   "metadata": {},
   "outputs": [
    {
     "name": "stdout",
     "output_type": "stream",
     "text": [
      "{'0101011100': 83304, '0101110001': 83104, '0110011010': 83432, '0110101001': 83081, '1001010110': 83524, '1001100101': 83262, '1010001110': 83330, '1010100011': 83052, '1100001101': 83556, '1100010011': 83814, '0011101100': 83140, '0011110010': 83401}\n"
     ]
    },
    {
     "data": {
      "image/png": "[encoded data removed]",
      "text/plain": [
       "<Figure size 504x360 with 1 Axes>"
      ]
     },
     "execution_count": 5,
     "metadata": {},
     "output_type": "execute_result"
    }
   ],
   "source": [
    "results = execute(circuit, backend, shots = 1000000).result()\n",
    "print(results.get_counts(circuit))\n",
    "plot_histogram(results.get_counts(circuit))"
   ]
  },
  {
   "cell_type": "code",
   "execution_count": null,
   "metadata": {},
   "outputs": [],
   "source": []
  }
 ],
 "metadata": {
  "kernelspec": {
   "display_name": "Python 3",
   "language": "python",
   "name": "python3"
  },
  "language_info": {
   "codemirror_mode": {
    "name": "ipython",
    "version": 3
   },
   "file_extension": ".py",
   "mimetype": "text/x-python",
   "name": "python",
   "nbconvert_exporter": "python",
   "pygments_lexer": "ipython3",
   "version": "3.7.6"
  },
  "latex_envs": {
   "LaTeX_envs_menu_present": true,
   "autoclose": false,
   "autocomplete": false,
   "bibliofile": "biblio.bib",
   "cite_by": "apalike",
   "current_citInitial": 1,
   "eqLabelWithNumbers": true,
   "eqNumInitial": 1,
   "hotkeys": {
    "equation": "Ctrl-E",
    "itemize": "Ctrl-I"
   },
   "labels_anchors": false,
   "latex_user_defs": false,
   "report_style_numbering": false,
   "user_envs_cfg": false
  }
 },
 "nbformat": 4,
 "nbformat_minor": 4
}
